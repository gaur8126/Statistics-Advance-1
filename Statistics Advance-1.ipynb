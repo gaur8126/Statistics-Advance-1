{
 "cells": [
  {
   "cell_type": "code",
   "execution_count": 1,
   "id": "f14dad29-141a-4a2c-b8fe-e125fdd38d19",
   "metadata": {},
   "outputs": [],
   "source": [
    "# Q.1\n",
    "\n",
    "# In probability theory, a probability density function (PDF) is used to define the random variable’s probability coming within a distinct range of values, as opposed to taking on any one value."
   ]
  },
  {
   "cell_type": "code",
   "execution_count": 2,
   "id": "fdf7cf09-d62a-4b93-9743-b8905f5dabd7",
   "metadata": {},
   "outputs": [],
   "source": [
    "# Q.2 \n",
    "# The 6 common probability distributions are Bernoulli, Uniform, Binomial, Normal, Poisson, and Exponential Distribution."
   ]
  },
  {
   "cell_type": "code",
   "execution_count": 3,
   "id": "27009d46-0c7d-434a-b6a5-86437a93849e",
   "metadata": {},
   "outputs": [
    {
     "name": "stdout",
     "output_type": "stream",
     "text": [
      "0.0804410163156249\n"
     ]
    }
   ],
   "source": [
    "# Q.3 \n",
    "\n",
    "from scipy.stats import norm \n",
    "import numpy as np \n",
    "  \n",
    "data_start = -5\n",
    "data_end = 5\n",
    "data_points = 11\n",
    "data = np.linspace(data_start, data_end, data_points) \n",
    "  \n",
    "mean = np.mean(data) \n",
    "std = np.std(data) \n",
    "  \n",
    "probability_pdf = norm.pdf(3, loc=mean, scale=std) \n",
    "print(probability_pdf) "
   ]
  },
  {
   "cell_type": "code",
   "execution_count": 4,
   "id": "543f4722-e10e-4859-a9b0-d824f65a0e0f",
   "metadata": {},
   "outputs": [],
   "source": [
    "# Q.4 \n",
    "# The properties of the binomial distribution are:\n",
    "#There are two possible outcomes: true or false, success or failure, yes or no.\n",
    "#There is 'n' number of independent trials or a fixed number of n times repeated trials.\n",
    "#The probability of success or failure remains the same for each trial.\n",
    "#Example 1: If a coin is tossed 5 times"
   ]
  },
  {
   "cell_type": "code",
   "execution_count": 5,
   "id": "49ab187e-f1e5-47ea-b98d-773de972ecf6",
   "metadata": {},
   "outputs": [
    {
     "data": {
      "image/png": "[encoded data removed]",
      "text/plain": [
       "<Figure size 640x480 with 1 Axes>"
      ]
     },
     "metadata": {},
     "output_type": "display_data"
    }
   ],
   "source": [
    "# Q.5 \n",
    "\n",
    "import numpy as np\n",
    "import matplotlib.pyplot as plt\n",
    "\n",
    "def generate_binomial_sample(size, probability_of_success):\n",
    "  \n",
    "    return np.random.binomial(1, probability_of_success, size)\n",
    "\n",
    "def plot_histogram(data):\n",
    "  \n",
    "    plt.hist(data, bins=np.arange(-0.5, 2, 1), edgecolor='black', align='mid')\n",
    "    plt.title(\"Binomial Distribution Sample\")\n",
    "    plt.xlabel(\"Outcome (0 = Failure, 1 = Success)\")\n",
    "    plt.ylabel(\"Frequency\")\n",
    "    plt.show()\n",
    "\n",
    "\n",
    "sample_size = 1000\n",
    "probability_of_success = 0.4\n",
    "\n",
    "binomial_sample = generate_binomial_sample(sample_size, probability_of_success)\n",
    "\n",
    "plot_histogram(binomial_sample)\n"
   ]
  },
  {
   "cell_type": "code",
   "execution_count": 7,
   "id": "e287efe1-91e4-4709-bb58-6bbf6b7afb86",
   "metadata": {},
   "outputs": [
    {
     "name": "stdout",
     "output_type": "stream",
     "text": [
      "The CDF at k=2 is 0.42319008112684364\n"
     ]
    }
   ],
   "source": [
    "# Q.6 \n",
    "from scipy.stats import poisson\n",
    "\n",
    "def poisson_cdf(mean, k):\n",
    "    \n",
    "    cdf_value = poisson.cdf(k, mu=mean)\n",
    "    return cdf_value\n",
    "\n",
    "# Example usage:\n",
    "mean_value = 3  # Replace with your desired mean\n",
    "point_value = 2  # Replace with the point at which you want to calculate the CDF\n",
    "\n",
    "result = poisson_cdf(mean_value, point_value)\n",
    "print(f\"The CDF at k={point_value} is {result}\")\n",
    "\n"
   ]
  },
  {
   "cell_type": "code",
   "execution_count": 8,
   "id": "e2402103-7784-4edc-89e4-5124383624f3",
   "metadata": {},
   "outputs": [],
   "source": [
    "# Q.7 \n",
    "#Binomial distribution describes the distribution of binary data from a finite sample. Thus it gives the probability of getting r events out of n trials. Poisson distribution describes the distribution of binary data from an infinite sample. Thus it gives the probability of getting r events in a population."
   ]
  },
  {
   "cell_type": "code",
   "execution_count": 1,
   "id": "20b27cab-005b-4a5b-83d1-754cfdd8a471",
   "metadata": {},
   "outputs": [
    {
     "name": "stdout",
     "output_type": "stream",
     "text": [
      "Sample Mean: 5.009\n",
      "Sample Variance: 5.460379379379378\n"
     ]
    }
   ],
   "source": [
    "# Q.8\n",
    "import numpy as np\n",
    "\n",
    "def generate_poisson_sample(size, mean):\n",
    "   \n",
    "    return np.random.poisson(mean, size)\n",
    "\n",
    "def calculate_sample_mean_and_variance(sample):\n",
    "    \n",
    "    sample_mean = np.mean(sample)\n",
    "    sample_variance = np.var(sample, ddof=1)  \n",
    "    return sample_mean, sample_variance\n",
    "\n",
    "\n",
    "sample_size = 1000\n",
    "poisson_mean = 5\n",
    "\n",
    "\n",
    "poisson_sample = generate_poisson_sample(sample_size, poisson_mean)\n",
    "mean_result, variance_result = calculate_sample_mean_and_variance(poisson_sample)\n",
    "\n",
    "print(f\"Sample Mean: {mean_result}\")\n",
    "print(f\"Sample Variance: {variance_result}\")\n"
   ]
  },
  {
   "cell_type": "code",
   "execution_count": 2,
   "id": "ea84be6c-4279-495f-ad9b-c21bf7a2d272",
   "metadata": {},
   "outputs": [],
   "source": [
    "#Q.9\n",
    "\n",
    "#The mean of the binomial distribution is always equal to p, and the variance is always equal to pq/N."
   ]
  },
  {
   "cell_type": "code",
   "execution_count": 3,
   "id": "6507e549-d9e5-4ab4-8a20-146fc67bd610",
   "metadata": {},
   "outputs": [],
   "source": [
    "#Q.10 \n",
    "#Shape of Normal Distribution\n",
    "#This means that most of the observed data is clustered near the mean, while the data become less frequent when farther away from the mean."
   ]
  },
  {
   "cell_type": "code",
   "execution_count": null,
   "id": "db4cc061-0558-438a-8f03-683098fbdb9c",
   "metadata": {},
   "outputs": [],
   "source": []
  }
 ],
 "metadata": {
  "kernelspec": {
   "display_name": "Python 3 (ipykernel)",
   "language": "python",
   "name": "python3"
  },
  "language_info": {
   "codemirror_mode": {
    "name": "ipython",
    "version": 3
   },
   "file_extension": ".py",
   "mimetype": "text/x-python",
   "name": "python",
   "nbconvert_exporter": "python",
   "pygments_lexer": "ipython3",
   "version": "3.10.8"
  }
 },
 "nbformat": 4,
 "nbformat_minor": 5
}
